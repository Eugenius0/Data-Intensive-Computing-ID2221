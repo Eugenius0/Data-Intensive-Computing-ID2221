{
 "cells": [
  {
   "cell_type": "code",
   "execution_count": 1,
   "id": "8da38882-7dae-4ad0-9bef-f2c1225d9cdb",
   "metadata": {},
   "outputs": [],
   "source": [
    "import boto3\n",
    "\n",
    "# Initialize the DynamoDB client (local instance)\n",
    "dynamodb = boto3.resource(\n",
    "    'dynamodb',\n",
    "    endpoint_url='http://dynamodb-local:8000',  # Local DynamoDB URL\n",
    "    region_name='us-west-2',               # AWS region (optional for local)\n",
    "    aws_access_key_id='dummy',             # Dummy credentials for local use\n",
    "    aws_secret_access_key='dummy'          # Dummy credentials for local use\n",
    ")\n",
    "\n",
    "DB_TABLE_NAME = \"processed\""
   ]
  },
  {
   "cell_type": "code",
   "execution_count": 2,
   "id": "c11eafad-309d-479e-8c39-2005038fb8d9",
   "metadata": {},
   "outputs": [
    {
     "name": "stdout",
     "output_type": "stream",
     "text": [
      "Table 'processed' created successfully.\n"
     ]
    }
   ],
   "source": [
    "# Create DB Table\n",
    "# Define table parameters\n",
    "table_name = DB_TABLE_NAME\n",
    "attribute_definitions = [\n",
    "    {\n",
    "        'AttributeName': 'pk',\n",
    "        'AttributeType': 'S'  # S for String, N for Number, B for Binary\n",
    "    }\n",
    "]\n",
    "key_schema = [\n",
    "    {\n",
    "        'AttributeName': 'pk',\n",
    "        'KeyType': 'HASH'  # Partition key\n",
    "    }\n",
    "]\n",
    "provisioned_throughput = {\n",
    "    'ReadCapacityUnits': 1,\n",
    "    'WriteCapacityUnits': 1\n",
    "}\n",
    "\n",
    "# Create the table\n",
    "try:\n",
    "    table = dynamodb.create_table(\n",
    "        TableName=table_name,\n",
    "        AttributeDefinitions=attribute_definitions,\n",
    "        KeySchema=key_schema,\n",
    "        ProvisionedThroughput=provisioned_throughput\n",
    "    )\n",
    "    # Wait until the table is created\n",
    "    table.meta.client.get_waiter('table_exists').wait(TableName=table_name)\n",
    "    print(f\"Table '{table_name}' created successfully.\")\n",
    "except Exception as e:\n",
    "    print(f\"Error creating table: {e}\")\n",
    "\n"
   ]
  },
  {
   "cell_type": "code",
   "execution_count": 3,
   "id": "968d4dee",
   "metadata": {},
   "outputs": [
    {
     "name": "stderr",
     "output_type": "stream",
     "text": [
      "Setting default log level to \"WARN\".\n",
      "To adjust logging level use sc.setLogLevel(newLevel). For SparkR, use setLogLevel(newLevel).\n",
      "24/10/25 15:18:18 WARN NativeCodeLoader: Unable to load native-hadoop library for your platform... using builtin-java classes where applicable\n"
     ]
    },
    {
     "name": "stdout",
     "output_type": "stream",
     "text": [
      "+----+---+---+--------+-----+---+-------+-------+-----+-------+-----+---+----+------+\n",
      "| age|sex| cp|trestbps| chol|fbs|restecg|thalach|exang|oldpeak|slope| ca|thal|target|\n",
      "+----+---+---+--------+-----+---+-------+-------+-----+-------+-----+---+----+------+\n",
      "|63.0|1.0|1.0|   145.0|233.0|1.0|    2.0|  150.0|  0.0|    2.3|  3.0|0.0| 6.0|     0|\n",
      "|67.0|1.0|4.0|   160.0|286.0|0.0|    2.0|  108.0|  1.0|    1.5|  2.0|3.0| 3.0|     2|\n",
      "|67.0|1.0|4.0|   120.0|229.0|0.0|    2.0|  129.0|  1.0|    2.6|  2.0|2.0| 7.0|     1|\n",
      "|37.0|1.0|3.0|   130.0|250.0|0.0|    0.0|  187.0|  0.0|    3.5|  3.0|0.0| 3.0|     0|\n",
      "|41.0|0.0|2.0|   130.0|204.0|0.0|    2.0|  172.0|  0.0|    1.4|  1.0|0.0| 3.0|     0|\n",
      "|56.0|1.0|2.0|   120.0|236.0|0.0|    0.0|  178.0|  0.0|    0.8|  1.0|0.0| 3.0|     0|\n",
      "|62.0|0.0|4.0|   140.0|268.0|0.0|    2.0|  160.0|  0.0|    3.6|  3.0|2.0| 3.0|     3|\n",
      "|57.0|0.0|4.0|   120.0|354.0|0.0|    0.0|  163.0|  1.0|    0.6|  1.0|0.0| 3.0|     0|\n",
      "|63.0|1.0|4.0|   130.0|254.0|0.0|    2.0|  147.0|  0.0|    1.4|  2.0|1.0| 7.0|     2|\n",
      "|53.0|1.0|4.0|   140.0|203.0|1.0|    2.0|  155.0|  1.0|    3.1|  3.0|0.0| 7.0|     1|\n",
      "|57.0|1.0|4.0|   140.0|192.0|0.0|    0.0|  148.0|  0.0|    0.4|  2.0|0.0| 6.0|     0|\n",
      "|56.0|0.0|2.0|   140.0|294.0|0.0|    2.0|  153.0|  0.0|    1.3|  2.0|0.0| 3.0|     0|\n",
      "|56.0|1.0|3.0|   130.0|256.0|1.0|    2.0|  142.0|  1.0|    0.6|  2.0|1.0| 6.0|     2|\n",
      "|44.0|1.0|2.0|   120.0|263.0|0.0|    0.0|  173.0|  0.0|    0.0|  1.0|0.0| 7.0|     0|\n",
      "|52.0|1.0|3.0|   172.0|199.0|1.0|    0.0|  162.0|  0.0|    0.5|  1.0|0.0| 7.0|     0|\n",
      "|57.0|1.0|3.0|   150.0|168.0|0.0|    0.0|  174.0|  0.0|    1.6|  1.0|0.0| 3.0|     0|\n",
      "|48.0|1.0|2.0|   110.0|229.0|0.0|    0.0|  168.0|  0.0|    1.0|  3.0|0.0| 7.0|     1|\n",
      "|54.0|1.0|4.0|   140.0|239.0|0.0|    0.0|  160.0|  0.0|    1.2|  1.0|0.0| 3.0|     0|\n",
      "|48.0|0.0|3.0|   130.0|275.0|0.0|    0.0|  139.0|  0.0|    0.2|  1.0|0.0| 3.0|     0|\n",
      "|49.0|1.0|2.0|   130.0|266.0|0.0|    0.0|  171.0|  0.0|    0.6|  1.0|0.0| 3.0|     0|\n",
      "+----+---+---+--------+-----+---+-------+-------+-----+-------+-----+---+----+------+\n",
      "only showing top 20 rows\n",
      "\n"
     ]
    }
   ],
   "source": [
    "# Read data\n",
    "import pyspark\n",
    "from pyspark.sql import SparkSession\n",
    "from pyspark.sql.functions import mean, col, when, count, isnan\n",
    "from pyspark.ml.feature import StringIndexer, VectorAssembler\n",
    "\n",
    "\n",
    "spark = SparkSession.builder.appName(\"HealthcareDataAnalysis\").getOrCreate()\n",
    "\n",
    "columns = [\n",
    "    \"age\", \"sex\", \"cp\", \"trestbps\", \"chol\", \"fbs\", \"restecg\",\n",
    "    \"thalach\", \"exang\", \"oldpeak\", \"slope\", \"ca\", \"thal\", \"target\"\n",
    "]\n",
    "\n",
    "data = spark.read.csv(\"hdfs://namenode:9000/input/heart_decease.csv\", header=False, inferSchema=True)\n",
    "\n",
    "data = data.toDF(*columns)\n",
    "\n",
    "\n",
    "data.show()"
   ]
  },
  {
   "cell_type": "markdown",
   "id": "ce49118b-0988-41a7-9c23-5de67021c6b2",
   "metadata": {},
   "source": [
    "## Column Headers and Their Descriptions\n",
    "\n",
    "**age**: Age of the patient in years.\n",
    "\n",
    "**sex**: Sex of the patient.\n",
    "- `1` = Male\n",
    "- `0` = Female\n",
    "\n",
    "**cp**: Chest pain type (4 types).\n",
    "- `1` = Typical angina: chest pain related to decreased blood supply to the heart.\n",
    "- `2` = Atypical angina: chest pain not related to the heart.\n",
    "- `3` = Non-anginal pain: typically esophageal or another form of chest pain.\n",
    "- `4` = Asymptomatic: no chest pain.\n",
    "\n",
    "**trestbps**: Resting blood pressure (in mm Hg on admission to the hospital).\n",
    "- This is the blood pressure measured while at rest.\n",
    "\n",
    "**chol**: Serum cholesterol in mg/dl.\n",
    "- Represents the cholesterol level of the patient.\n",
    "\n",
    "**fbs**: Fasting blood sugar > 120 mg/dl.\n",
    "- `1` = True (fasting blood sugar is higher than 120 mg/dl)\n",
    "- `0` = False (fasting blood sugar is lower than or equal to 120 mg/dl)\n",
    "\n",
    "**restecg**: Resting electrocardiographic results (values 0, 1, 2).\n",
    "- `0` = Normal.\n",
    "- `1` = Having ST-T wave abnormality (T wave inversions and/or ST elevation or depression of > 0.05 mV).\n",
    "- `2` = Showing probable or definite left ventricular hypertrophy by Estes' criteria.\n",
    "\n",
    "**thalach**: Maximum heart rate achieved.\n",
    "- The highest heart rate reached during a stress test.\n",
    "\n",
    "**exang**: Exercise-induced angina.\n",
    "- `1` = Yes (angina induced by exercise)\n",
    "- `0` = No (no angina induced by exercise)\n",
    "\n",
    "**oldpeak**: ST depression induced by exercise relative to rest.\n",
    "- Represents the difference between the heart's state during rest and during exercise.\n",
    "\n",
    "**slope**: The slope of the peak exercise ST segment.\n",
    "- `1` = Upsloping: better heart rate recovery.\n",
    "- `2` = Flat: minimal or no change in the ST segment.\n",
    "- `3` = Downsloping: indicative of heart problems.\n",
    "\n",
    "**ca**: Number of major vessels (0-3) colored by fluoroscopy.\n",
    "- Represents the number of major blood vessels that are visible after injecting a contrast dye.\n",
    "- The values range from `0` to `3`.\n",
    "\n",
    "**thal**: Thalassemia (a blood disorder that affects hemoglobin levels).\n",
    "- `3` = Normal.\n",
    "- `6` = Fixed defect: no proper blood movement in part of the heart.\n",
    "- `7` = Reversible defect: blood flow is impaired, but not permanently.\n",
    "\n",
    "**target**: Diagnosis of heart disease (angiographic disease status).\n",
    "- `0` = No presence of heart disease.\n",
    "- `1` = Presence of heart disease.\n"
   ]
  },
  {
   "cell_type": "code",
   "execution_count": 5,
   "id": "f3cf3f31",
   "metadata": {},
   "outputs": [
    {
     "data": {
      "text/plain": [
       "{'ResponseMetadata': {'RequestId': 'ebcb417d-c833-440c-9e70-d903768bf3b7',\n",
       "  'HTTPStatusCode': 200,\n",
       "  'HTTPHeaders': {'server': 'Jetty(12.0.8)',\n",
       "   'date': 'Sat, 26 Oct 2024 10:05:47 GMT',\n",
       "   'x-amzn-requestid': 'ebcb417d-c833-440c-9e70-d903768bf3b7',\n",
       "   'content-type': 'application/x-amz-json-1.0',\n",
       "   'x-amz-crc32': '2745614147',\n",
       "   'content-length': '2'},\n",
       "  'RetryAttempts': 0}}"
      ]
     },
     "execution_count": 5,
     "metadata": {},
     "output_type": "execute_result"
    }
   ],
   "source": [
    "# Persist data\n",
    "table = dynamodb.Table(DB_TABLE_NAME)\n",
    "\n",
    "# Put an item into the table\n",
    "table.put_item(\n",
    "    Item={\n",
    "        'pk': '123',\n",
    "        'Name': 'Example Item'\n",
    "    }\n",
    ")"
   ]
  },
  {
   "cell_type": "code",
   "execution_count": 10,
   "id": "58f472fa-4e86-4407-8baa-4ee548812750",
   "metadata": {},
   "outputs": [
    {
     "name": "stdout",
     "output_type": "stream",
     "text": [
      "Data stored in DynamoDB successfully.\n"
     ]
    }
   ],
   "source": [
    "from decimal import Decimal, ROUND_HALF_UP, InvalidOperation\n",
    "\n",
    "# Helper function to safely convert to Decimal\n",
    "def safe_decimal(value):\n",
    "    # Check if the value is None or non-numeric\n",
    "    if value is None:\n",
    "        return None\n",
    "    try:\n",
    "        return Decimal(value).quantize(Decimal(\"0.01\"), rounding=ROUND_HALF_UP)\n",
    "    except (InvalidOperation, TypeError):\n",
    "        return None  # Return None or another placeholder if conversion fails\n",
    "\n",
    "# Iterate through each row in the DataFrame and store it in DynamoDB\n",
    "for row in data.collect():\n",
    "    table.put_item(\n",
    "        Item={\n",
    "            'pk': f\"patient_{int(row['age'])}_{int(row['sex'])}\",  # Unique ID combining age and sex\n",
    "            'age': safe_decimal(row['age']),\n",
    "            'sex': 'Male' if row['sex'] == 1 else 'Female',\n",
    "            'cp': safe_decimal(row['cp']),\n",
    "            'trestbps': safe_decimal(row['trestbps']),\n",
    "            'chol': safe_decimal(row['chol']),\n",
    "            'fbs': safe_decimal(row['fbs']),\n",
    "            'restecg': safe_decimal(row['restecg']),\n",
    "            'thalach': safe_decimal(row['thalach']),\n",
    "            'exang': safe_decimal(row['exang']),\n",
    "            'oldpeak': safe_decimal(row['oldpeak']),\n",
    "            'slope': safe_decimal(row['slope']),\n",
    "            'ca': safe_decimal(row['ca']),\n",
    "            'thal': safe_decimal(row['thal']),\n",
    "            'target': safe_decimal(row['target'])\n",
    "        }\n",
    "    )\n",
    "print(\"Data stored in DynamoDB successfully.\")"
   ]
  },
  {
   "cell_type": "code",
   "execution_count": 11,
   "id": "25bbe775-903e-4b1f-bde8-795fe6d38be8",
   "metadata": {},
   "outputs": [
    {
     "name": "stdout",
     "output_type": "stream",
     "text": [
      "Retrieved items from DynamoDB:\n",
      "{'exang': Decimal('1'), 'sex': 'Male', 'thal': Decimal('6'), 'chol': Decimal('169'), 'slope': Decimal('3'), 'cp': Decimal('4'), 'trestbps': Decimal('120'), 'target': Decimal('2'), 'oldpeak': Decimal('2.8'), 'thalach': Decimal('144'), 'fbs': Decimal('0'), 'pk': 'patient_44_1', 'age': Decimal('44'), 'ca': Decimal('0'), 'restecg': Decimal('0')}\n",
      "{'exang': Decimal('1'), 'sex': 'Female', 'thal': Decimal('3'), 'chol': Decimal('243'), 'slope': Decimal('2'), 'cp': Decimal('4'), 'trestbps': Decimal('138'), 'target': Decimal('0'), 'oldpeak': Decimal('0'), 'thalach': Decimal('152'), 'fbs': Decimal('0'), 'pk': 'patient_46_0', 'age': Decimal('46'), 'ca': Decimal('0'), 'restecg': Decimal('2')}\n",
      "{'exang': Decimal('0'), 'sex': 'Female', 'thal': Decimal('3'), 'chol': Decimal('306'), 'slope': Decimal('1'), 'cp': Decimal('2'), 'trestbps': Decimal('126'), 'target': Decimal('0'), 'oldpeak': Decimal('0'), 'thalach': Decimal('163'), 'fbs': Decimal('0'), 'pk': 'patient_41_0', 'age': Decimal('41'), 'ca': Decimal('0'), 'restecg': Decimal('0')}\n",
      "{'exang': Decimal('0'), 'sex': 'Male', 'thal': Decimal('3'), 'chol': Decimal('149'), 'slope': Decimal('1'), 'cp': Decimal('3'), 'trestbps': Decimal('118'), 'target': Decimal('1'), 'oldpeak': Decimal('0.8'), 'thalach': Decimal('126'), 'fbs': Decimal('0'), 'pk': 'patient_49_1', 'age': Decimal('49'), 'ca': Decimal('3'), 'restecg': Decimal('2')}\n",
      "{'exang': Decimal('1'), 'sex': 'Male', 'thal': Decimal('7'), 'chol': Decimal('131'), 'slope': Decimal('2'), 'cp': Decimal('4'), 'trestbps': Decimal('130'), 'target': Decimal('3'), 'oldpeak': Decimal('1.2'), 'thalach': Decimal('115'), 'fbs': Decimal('0'), 'pk': 'patient_57_1', 'age': Decimal('57'), 'ca': Decimal('1'), 'restecg': Decimal('0')}\n"
     ]
    }
   ],
   "source": [
    "import boto3\n",
    "from boto3.dynamodb.conditions import Key\n",
    "\n",
    "# Initialize the DynamoDB client (assuming local instance)\n",
    "dynamodb = boto3.resource(\n",
    "    'dynamodb',\n",
    "    endpoint_url='http://dynamodb-local:8000',  # Local DynamoDB URL\n",
    "    region_name='us-west-2',\n",
    "    aws_access_key_id='dummy',\n",
    "    aws_secret_access_key='dummy'\n",
    ")\n",
    "\n",
    "# Specify the table name\n",
    "table = dynamodb.Table('processed')\n",
    "\n",
    "# Retrieve a few items from DynamoDB\n",
    "try:\n",
    "    # Scan the table to retrieve all items (useful for validation)\n",
    "    response = table.scan(Limit=5)  # Retrieve 5 items to check for data accuracy\n",
    "    \n",
    "    # Print the retrieved items\n",
    "    items = response.get('Items', [])\n",
    "    print(\"Retrieved items from DynamoDB:\")\n",
    "    for item in items:\n",
    "        print(item)\n",
    "except Exception as e:\n",
    "    print(f\"Error retrieving items: {e}\")"
   ]
  },
  {
   "cell_type": "code",
   "execution_count": null,
   "id": "72bea1e1-8cfc-469d-adf9-68b062e0201f",
   "metadata": {},
   "outputs": [],
   "source": []
  }
 ],
 "metadata": {
  "kernelspec": {
   "display_name": "Python 3 (ipykernel)",
   "language": "python",
   "name": "python3"
  },
  "language_info": {
   "codemirror_mode": {
    "name": "ipython",
    "version": 3
   },
   "file_extension": ".py",
   "mimetype": "text/x-python",
   "name": "python",
   "nbconvert_exporter": "python",
   "pygments_lexer": "ipython3",
   "version": "3.12.7"
  }
 },
 "nbformat": 4,
 "nbformat_minor": 5
}
